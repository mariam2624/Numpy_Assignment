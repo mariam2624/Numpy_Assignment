{
  "nbformat": 4,
  "nbformat_minor": 0,
  "metadata": {
    "colab": {
      "name": "Numpy ex.ipynb",
      "version": "0.3.2",
      "provenance": []
    },
    "kernelspec": {
      "name": "python3",
      "display_name": "Python 3"
    },
    "accelerator": "GPU"
  },
  "cells": [
    {
      "metadata": {
        "id": "l_2eMWsUwQX7",
        "colab_type": "text"
      },
      "cell_type": "markdown",
      "source": [
        "1. Import the &quot;numpy&quot; library as &quot;np&quot;.\n",
        "\n",
        "\n",
        "\n"
      ]
    },
    {
      "metadata": {
        "id": "5QAIP_8vwJUS",
        "colab_type": "code",
        "colab": {}
      },
      "cell_type": "code",
      "source": [
        "import numpy as np"
      ],
      "execution_count": 0,
      "outputs": []
    },
    {
      "metadata": {
        "id": "7KpSudYLwqS6",
        "colab_type": "text"
      },
      "cell_type": "markdown",
      "source": [
        "2. Create an array of shape (2, 3, 4) of zeros."
      ]
    },
    {
      "metadata": {
        "id": "vTiSE2xKwy9-",
        "colab_type": "code",
        "colab": {
          "base_uri": "https://localhost:8080/",
          "height": 136
        },
        "outputId": "9dc79e62-004e-4f7f-b104-6c3ec648feb9"
      },
      "cell_type": "code",
      "source": [
        "(np.zeros(shape = (2,3,4)))"
      ],
      "execution_count": 18,
      "outputs": [
        {
          "output_type": "execute_result",
          "data": {
            "text/plain": [
              "array([[[0., 0., 0., 0.],\n",
              "        [0., 0., 0., 0.],\n",
              "        [0., 0., 0., 0.]],\n",
              "\n",
              "       [[0., 0., 0., 0.],\n",
              "        [0., 0., 0., 0.],\n",
              "        [0., 0., 0., 0.]]])"
            ]
          },
          "metadata": {
            "tags": []
          },
          "execution_count": 18
        }
      ]
    },
    {
      "metadata": {
        "id": "uZIeiwDszAxT",
        "colab_type": "text"
      },
      "cell_type": "markdown",
      "source": [
        "3. Create an array of shape (2, 3, 4) of ones"
      ]
    },
    {
      "metadata": {
        "id": "M-wllvBOzEHT",
        "colab_type": "code",
        "colab": {
          "base_uri": "https://localhost:8080/",
          "height": 136
        },
        "outputId": "c1933eb2-a1fd-4341-ad43-e0bee7bac615"
      },
      "cell_type": "code",
      "source": [
        "np.ones(shape = (2,3,4))"
      ],
      "execution_count": 19,
      "outputs": [
        {
          "output_type": "execute_result",
          "data": {
            "text/plain": [
              "array([[[1., 1., 1., 1.],\n",
              "        [1., 1., 1., 1.],\n",
              "        [1., 1., 1., 1.]],\n",
              "\n",
              "       [[1., 1., 1., 1.],\n",
              "        [1., 1., 1., 1.],\n",
              "        [1., 1., 1., 1.]]])"
            ]
          },
          "metadata": {
            "tags": []
          },
          "execution_count": 19
        }
      ]
    },
    {
      "metadata": {
        "id": "2plbx7VqzMyV",
        "colab_type": "text"
      },
      "cell_type": "markdown",
      "source": [
        "4. Create an array with values 0 to 999 using the \"np.arange\" function"
      ]
    },
    {
      "metadata": {
        "id": "DVvE_O49zRbO",
        "colab_type": "code",
        "colab": {
          "base_uri": "https://localhost:8080/",
          "height": 1326
        },
        "outputId": "20e197dc-1b37-45a0-c598-18985d1c74af"
      },
      "cell_type": "code",
      "source": [
        "np.arange(1000)"
      ],
      "execution_count": 20,
      "outputs": [
        {
          "output_type": "execute_result",
          "data": {
            "text/plain": [
              "array([  0,   1,   2,   3,   4,   5,   6,   7,   8,   9,  10,  11,  12,\n",
              "        13,  14,  15,  16,  17,  18,  19,  20,  21,  22,  23,  24,  25,\n",
              "        26,  27,  28,  29,  30,  31,  32,  33,  34,  35,  36,  37,  38,\n",
              "        39,  40,  41,  42,  43,  44,  45,  46,  47,  48,  49,  50,  51,\n",
              "        52,  53,  54,  55,  56,  57,  58,  59,  60,  61,  62,  63,  64,\n",
              "        65,  66,  67,  68,  69,  70,  71,  72,  73,  74,  75,  76,  77,\n",
              "        78,  79,  80,  81,  82,  83,  84,  85,  86,  87,  88,  89,  90,\n",
              "        91,  92,  93,  94,  95,  96,  97,  98,  99, 100, 101, 102, 103,\n",
              "       104, 105, 106, 107, 108, 109, 110, 111, 112, 113, 114, 115, 116,\n",
              "       117, 118, 119, 120, 121, 122, 123, 124, 125, 126, 127, 128, 129,\n",
              "       130, 131, 132, 133, 134, 135, 136, 137, 138, 139, 140, 141, 142,\n",
              "       143, 144, 145, 146, 147, 148, 149, 150, 151, 152, 153, 154, 155,\n",
              "       156, 157, 158, 159, 160, 161, 162, 163, 164, 165, 166, 167, 168,\n",
              "       169, 170, 171, 172, 173, 174, 175, 176, 177, 178, 179, 180, 181,\n",
              "       182, 183, 184, 185, 186, 187, 188, 189, 190, 191, 192, 193, 194,\n",
              "       195, 196, 197, 198, 199, 200, 201, 202, 203, 204, 205, 206, 207,\n",
              "       208, 209, 210, 211, 212, 213, 214, 215, 216, 217, 218, 219, 220,\n",
              "       221, 222, 223, 224, 225, 226, 227, 228, 229, 230, 231, 232, 233,\n",
              "       234, 235, 236, 237, 238, 239, 240, 241, 242, 243, 244, 245, 246,\n",
              "       247, 248, 249, 250, 251, 252, 253, 254, 255, 256, 257, 258, 259,\n",
              "       260, 261, 262, 263, 264, 265, 266, 267, 268, 269, 270, 271, 272,\n",
              "       273, 274, 275, 276, 277, 278, 279, 280, 281, 282, 283, 284, 285,\n",
              "       286, 287, 288, 289, 290, 291, 292, 293, 294, 295, 296, 297, 298,\n",
              "       299, 300, 301, 302, 303, 304, 305, 306, 307, 308, 309, 310, 311,\n",
              "       312, 313, 314, 315, 316, 317, 318, 319, 320, 321, 322, 323, 324,\n",
              "       325, 326, 327, 328, 329, 330, 331, 332, 333, 334, 335, 336, 337,\n",
              "       338, 339, 340, 341, 342, 343, 344, 345, 346, 347, 348, 349, 350,\n",
              "       351, 352, 353, 354, 355, 356, 357, 358, 359, 360, 361, 362, 363,\n",
              "       364, 365, 366, 367, 368, 369, 370, 371, 372, 373, 374, 375, 376,\n",
              "       377, 378, 379, 380, 381, 382, 383, 384, 385, 386, 387, 388, 389,\n",
              "       390, 391, 392, 393, 394, 395, 396, 397, 398, 399, 400, 401, 402,\n",
              "       403, 404, 405, 406, 407, 408, 409, 410, 411, 412, 413, 414, 415,\n",
              "       416, 417, 418, 419, 420, 421, 422, 423, 424, 425, 426, 427, 428,\n",
              "       429, 430, 431, 432, 433, 434, 435, 436, 437, 438, 439, 440, 441,\n",
              "       442, 443, 444, 445, 446, 447, 448, 449, 450, 451, 452, 453, 454,\n",
              "       455, 456, 457, 458, 459, 460, 461, 462, 463, 464, 465, 466, 467,\n",
              "       468, 469, 470, 471, 472, 473, 474, 475, 476, 477, 478, 479, 480,\n",
              "       481, 482, 483, 484, 485, 486, 487, 488, 489, 490, 491, 492, 493,\n",
              "       494, 495, 496, 497, 498, 499, 500, 501, 502, 503, 504, 505, 506,\n",
              "       507, 508, 509, 510, 511, 512, 513, 514, 515, 516, 517, 518, 519,\n",
              "       520, 521, 522, 523, 524, 525, 526, 527, 528, 529, 530, 531, 532,\n",
              "       533, 534, 535, 536, 537, 538, 539, 540, 541, 542, 543, 544, 545,\n",
              "       546, 547, 548, 549, 550, 551, 552, 553, 554, 555, 556, 557, 558,\n",
              "       559, 560, 561, 562, 563, 564, 565, 566, 567, 568, 569, 570, 571,\n",
              "       572, 573, 574, 575, 576, 577, 578, 579, 580, 581, 582, 583, 584,\n",
              "       585, 586, 587, 588, 589, 590, 591, 592, 593, 594, 595, 596, 597,\n",
              "       598, 599, 600, 601, 602, 603, 604, 605, 606, 607, 608, 609, 610,\n",
              "       611, 612, 613, 614, 615, 616, 617, 618, 619, 620, 621, 622, 623,\n",
              "       624, 625, 626, 627, 628, 629, 630, 631, 632, 633, 634, 635, 636,\n",
              "       637, 638, 639, 640, 641, 642, 643, 644, 645, 646, 647, 648, 649,\n",
              "       650, 651, 652, 653, 654, 655, 656, 657, 658, 659, 660, 661, 662,\n",
              "       663, 664, 665, 666, 667, 668, 669, 670, 671, 672, 673, 674, 675,\n",
              "       676, 677, 678, 679, 680, 681, 682, 683, 684, 685, 686, 687, 688,\n",
              "       689, 690, 691, 692, 693, 694, 695, 696, 697, 698, 699, 700, 701,\n",
              "       702, 703, 704, 705, 706, 707, 708, 709, 710, 711, 712, 713, 714,\n",
              "       715, 716, 717, 718, 719, 720, 721, 722, 723, 724, 725, 726, 727,\n",
              "       728, 729, 730, 731, 732, 733, 734, 735, 736, 737, 738, 739, 740,\n",
              "       741, 742, 743, 744, 745, 746, 747, 748, 749, 750, 751, 752, 753,\n",
              "       754, 755, 756, 757, 758, 759, 760, 761, 762, 763, 764, 765, 766,\n",
              "       767, 768, 769, 770, 771, 772, 773, 774, 775, 776, 777, 778, 779,\n",
              "       780, 781, 782, 783, 784, 785, 786, 787, 788, 789, 790, 791, 792,\n",
              "       793, 794, 795, 796, 797, 798, 799, 800, 801, 802, 803, 804, 805,\n",
              "       806, 807, 808, 809, 810, 811, 812, 813, 814, 815, 816, 817, 818,\n",
              "       819, 820, 821, 822, 823, 824, 825, 826, 827, 828, 829, 830, 831,\n",
              "       832, 833, 834, 835, 836, 837, 838, 839, 840, 841, 842, 843, 844,\n",
              "       845, 846, 847, 848, 849, 850, 851, 852, 853, 854, 855, 856, 857,\n",
              "       858, 859, 860, 861, 862, 863, 864, 865, 866, 867, 868, 869, 870,\n",
              "       871, 872, 873, 874, 875, 876, 877, 878, 879, 880, 881, 882, 883,\n",
              "       884, 885, 886, 887, 888, 889, 890, 891, 892, 893, 894, 895, 896,\n",
              "       897, 898, 899, 900, 901, 902, 903, 904, 905, 906, 907, 908, 909,\n",
              "       910, 911, 912, 913, 914, 915, 916, 917, 918, 919, 920, 921, 922,\n",
              "       923, 924, 925, 926, 927, 928, 929, 930, 931, 932, 933, 934, 935,\n",
              "       936, 937, 938, 939, 940, 941, 942, 943, 944, 945, 946, 947, 948,\n",
              "       949, 950, 951, 952, 953, 954, 955, 956, 957, 958, 959, 960, 961,\n",
              "       962, 963, 964, 965, 966, 967, 968, 969, 970, 971, 972, 973, 974,\n",
              "       975, 976, 977, 978, 979, 980, 981, 982, 983, 984, 985, 986, 987,\n",
              "       988, 989, 990, 991, 992, 993, 994, 995, 996, 997, 998, 999])"
            ]
          },
          "metadata": {
            "tags": []
          },
          "execution_count": 20
        }
      ]
    },
    {
      "metadata": {
        "id": "rgP7LaOb3VYZ",
        "colab_type": "text"
      },
      "cell_type": "markdown",
      "source": [
        "5.Create an array from the list [2, 3.2, 5.5, -6.4, -2.2, 2.4] and assign it to the variable &quot;a&quot;"
      ]
    },
    {
      "metadata": {
        "id": "RHsjajhi3neV",
        "colab_type": "code",
        "colab": {
          "base_uri": "https://localhost:8080/",
          "height": 34
        },
        "outputId": "9d5f13a2-d2e9-419a-e7cd-01ccfbbadc2a"
      },
      "cell_type": "code",
      "source": [
        "a = np.array([2,3.2,5.5,-6.4,-2.,2.4])\n",
        "a"
      ],
      "execution_count": 22,
      "outputs": [
        {
          "output_type": "execute_result",
          "data": {
            "text/plain": [
              "array([ 2. ,  3.2,  5.5, -6.4, -2. ,  2.4])"
            ]
          },
          "metadata": {
            "tags": []
          },
          "execution_count": 22
        }
      ]
    },
    {
      "metadata": {
        "id": "VAw3tUHJ4K5V",
        "colab_type": "text"
      },
      "cell_type": "markdown",
      "source": [
        "6. Do you know what a[1] will equal? Print it to see\n"
      ]
    },
    {
      "metadata": {
        "id": "pbzDwsyg4NEV",
        "colab_type": "code",
        "colab": {
          "base_uri": "https://localhost:8080/",
          "height": 34
        },
        "outputId": "72b108a9-9407-4a47-c90c-4effaec5f98c"
      },
      "cell_type": "code",
      "source": [
        "a[1]"
      ],
      "execution_count": 23,
      "outputs": [
        {
          "output_type": "execute_result",
          "data": {
            "text/plain": [
              "3.2"
            ]
          },
          "metadata": {
            "tags": []
          },
          "execution_count": 23
        }
      ]
    },
    {
      "metadata": {
        "id": "L95UTkHs4WQ3",
        "colab_type": "text"
      },
      "cell_type": "markdown",
      "source": [
        "7. Create a 2-D array from the following list and assign it to the variable \"a\": [[2, 3.2, 5.5, -6.4, -2.2, 2.4], [1, 22, 4, 0.1, 5.3, -9], [3, 1, 2.1, 21, 1.1, -2]]\n"
      ]
    },
    {
      "metadata": {
        "id": "HKFHc-ya4bQT",
        "colab_type": "code",
        "colab": {
          "base_uri": "https://localhost:8080/",
          "height": 68
        },
        "outputId": "fd14672b-17a9-41b4-a5d3-b018e2d1cfab"
      },
      "cell_type": "code",
      "source": [
        "a = np.array([[2, 3.2, 5.5, -6.4, -2.2, 2.4], [1, 22, 4, 0.1, 5.3, -9], [3, 1, 2.1, 21, 1.1, -2]])\n",
        "a"
      ],
      "execution_count": 24,
      "outputs": [
        {
          "output_type": "execute_result",
          "data": {
            "text/plain": [
              "array([[ 2. ,  3.2,  5.5, -6.4, -2.2,  2.4],\n",
              "       [ 1. , 22. ,  4. ,  0.1,  5.3, -9. ],\n",
              "       [ 3. ,  1. ,  2.1, 21. ,  1.1, -2. ]])"
            ]
          },
          "metadata": {
            "tags": []
          },
          "execution_count": 24
        }
      ]
    },
    {
      "metadata": {
        "id": "Mja9H7wR4tSy",
        "colab_type": "text"
      },
      "cell_type": "markdown",
      "source": [
        "8.  Can you guess what the following slices are equal to? Print them to check your understanding. a[:, 3] a[1:4, 0:4] a[1:, 2]\n"
      ]
    },
    {
      "metadata": {
        "id": "UnwfUa6h4088",
        "colab_type": "code",
        "colab": {
          "base_uri": "https://localhost:8080/",
          "height": 119
        },
        "outputId": "972cc981-8aa8-4192-9b16-ef895939cc01"
      },
      "cell_type": "code",
      "source": [
        "print(a[:, 3], \"\\n\")\n",
        "print(a[1:4, 0:4], \"\\n\")\n",
        "print(a[1:, 2])"
      ],
      "execution_count": 39,
      "outputs": [
        {
          "output_type": "stream",
          "text": [
            "[-6.4  0.1 21. ] \n",
            "\n",
            "[[ 1.  22.   4.   0.1]\n",
            " [ 3.   1.   2.1 21. ]] \n",
            "\n",
            "[4.  2.1]\n"
          ],
          "name": "stdout"
        }
      ]
    },
    {
      "metadata": {
        "id": "uTsSRo7E6mzt",
        "colab_type": "text"
      },
      "cell_type": "markdown",
      "source": [
        "9. Create a 2-D array of shape (2, 4) containing two lists (range(4), range(10, 14)) and assign it to the variable \"arr\".Print the shape of the array. Print the size of the array. Print the maximum and minimum of the array\n"
      ]
    },
    {
      "metadata": {
        "id": "fE7fOo1v6q06",
        "colab_type": "code",
        "colab": {
          "base_uri": "https://localhost:8080/",
          "height": 119
        },
        "outputId": "1abc556d-9622-464c-e17e-3f88d4dc490b"
      },
      "cell_type": "code",
      "source": [
        "\n",
        "arr = np.array((range(4),range(10,14)) , dtype=int)\n",
        "print(arr)\n",
        "print(\"shape: \",arr.shape)\n",
        "print(\"size : \",np.size(arr))\n",
        "print(\"max : \",np.max(arr))\n",
        "print(\"min : \" , np.min(arr))"
      ],
      "execution_count": 77,
      "outputs": [
        {
          "output_type": "stream",
          "text": [
            "[[ 0  1  2  3]\n",
            " [10 11 12 13]]\n",
            "shape:  (2, 4)\n",
            "size :  8\n",
            "max :  13\n",
            "min :  0\n"
          ],
          "name": "stdout"
        }
      ]
    },
    {
      "metadata": {
        "id": "vM_Nntxp8VoJ",
        "colab_type": "text"
      },
      "cell_type": "markdown",
      "source": [
        "10. Continue to use the array \"arr\" as defined above.Print the array re-shaped to (2, 2, 2).Print the array transposed.Print the array flattened to a single dimension. Print the array converted to floats"
      ]
    },
    {
      "metadata": {
        "id": "sRXI6PAt8bO5",
        "colab_type": "code",
        "colab": {
          "base_uri": "https://localhost:8080/",
          "height": 272
        },
        "outputId": "cec2a580-ef40-461b-9f27-ca55be02c6c3"
      },
      "cell_type": "code",
      "source": [
        "print(\"reshape : \" , arr.reshape(2,2,2) , \"\\n\")\n",
        "print(\"transpose : \" , arr.transpose() , \"\\n\")\n",
        "print(\"1 dim : \" , arr.flatten() ,  \"\\n\")\n",
        "print(\"changed data type: \" , arr.astype(float))"
      ],
      "execution_count": 67,
      "outputs": [
        {
          "output_type": "stream",
          "text": [
            "reshape :  [[[ 0  1]\n",
            "  [ 2  3]]\n",
            "\n",
            " [[10 11]\n",
            "  [12 13]]] \n",
            "\n",
            "transpose :  [[ 0 10]\n",
            " [ 1 11]\n",
            " [ 2 12]\n",
            " [ 3 13]] \n",
            "\n",
            "1 dim :  [ 0  1  2  3 10 11 12 13] \n",
            "\n",
            "changed data type:  [[ 0.  1.  2.  3.]\n",
            " [10. 11. 12. 13.]]\n"
          ],
          "name": "stdout"
        }
      ]
    },
    {
      "metadata": {
        "id": "ftmtB8YH94Ek",
        "colab_type": "text"
      },
      "cell_type": "markdown",
      "source": [
        "11.  Create an an array counting from 1 to 20 inclusive\n"
      ]
    },
    {
      "metadata": {
        "id": "w2Dsw3LW96KX",
        "colab_type": "code",
        "colab": {
          "base_uri": "https://localhost:8080/",
          "height": 51
        },
        "outputId": "4c1a2ace-4da2-4471-db72-e18da2ea1ce4"
      },
      "cell_type": "code",
      "source": [
        "np.array(range(1,21))"
      ],
      "execution_count": 68,
      "outputs": [
        {
          "output_type": "execute_result",
          "data": {
            "text/plain": [
              "array([ 1,  2,  3,  4,  5,  6,  7,  8,  9, 10, 11, 12, 13, 14, 15, 16, 17,\n",
              "       18, 19, 20])"
            ]
          },
          "metadata": {
            "tags": []
          },
          "execution_count": 68
        }
      ]
    },
    {
      "metadata": {
        "id": "6HYXfGQZ-FSJ",
        "colab_type": "text"
      },
      "cell_type": "markdown",
      "source": [
        "12. The array of multiples of 3 greater than 0 and less than 30\n"
      ]
    },
    {
      "metadata": {
        "id": "wm1Ou-iW-ICe",
        "colab_type": "code",
        "colab": {
          "base_uri": "https://localhost:8080/",
          "height": 34
        },
        "outputId": "0b044266-ef68-431e-c8af-143e50701793"
      },
      "cell_type": "code",
      "source": [
        "a = np.array(range(1,10))\n",
        "print(a*3)"
      ],
      "execution_count": 76,
      "outputs": [
        {
          "output_type": "stream",
          "text": [
            "[ 3  6  9 12 15 18 21 24 27]\n"
          ],
          "name": "stdout"
        }
      ]
    },
    {
      "metadata": {
        "id": "nhbIWjPA_TNQ",
        "colab_type": "text"
      },
      "cell_type": "markdown",
      "source": [
        "13. The array of 8 equally spaced floats x where 0 ≤ x ≤ 1"
      ]
    },
    {
      "metadata": {
        "id": "ipE0qeze_R5c",
        "colab_type": "code",
        "colab": {
          "base_uri": "https://localhost:8080/",
          "height": 51
        },
        "outputId": "107dfee6-ccab-4003-ea47-329dc8cc90ec"
      },
      "cell_type": "code",
      "source": [
        "np.linspace(0,1,8)"
      ],
      "execution_count": 81,
      "outputs": [
        {
          "output_type": "execute_result",
          "data": {
            "text/plain": [
              "array([0.        , 0.14285714, 0.28571429, 0.42857143, 0.57142857,\n",
              "       0.71428571, 0.85714286, 1.        ])"
            ]
          },
          "metadata": {
            "tags": []
          },
          "execution_count": 81
        }
      ]
    },
    {
      "metadata": {
        "id": "oAd86EMSCCFI",
        "colab_type": "text"
      },
      "cell_type": "markdown",
      "source": [
        "14. se np.arange and reshape to create the array A = [[1 2 3 4] [5 6 7 8]]"
      ]
    },
    {
      "metadata": {
        "id": "hYy2JbOZ56R3",
        "colab_type": "code",
        "colab": {
          "base_uri": "https://localhost:8080/",
          "height": 51
        },
        "outputId": "e9ff5e28-30c2-4b7a-8b48-d03d7bf25062"
      },
      "cell_type": "code",
      "source": [
        " A = np.arange(1,9)\n",
        " A.reshape(2,4)"
      ],
      "execution_count": 86,
      "outputs": [
        {
          "output_type": "execute_result",
          "data": {
            "text/plain": [
              "array([[1, 2, 3, 4],\n",
              "       [5, 6, 7, 8]])"
            ]
          },
          "metadata": {
            "tags": []
          },
          "execution_count": 86
        }
      ]
    },
    {
      "metadata": {
        "id": "Akjii9LJCisx",
        "colab_type": "text"
      },
      "cell_type": "markdown",
      "source": [
        "15. . Use np.array to create the array B = [1 2]"
      ]
    },
    {
      "metadata": {
        "id": "j5Orr3iwCqBY",
        "colab_type": "code",
        "colab": {
          "base_uri": "https://localhost:8080/",
          "height": 34
        },
        "outputId": "d650926e-e2e4-4218-bd4e-5b43c21b7f9e"
      },
      "cell_type": "code",
      "source": [
        "B = np.array([1,2])\n",
        "B"
      ],
      "execution_count": 88,
      "outputs": [
        {
          "output_type": "execute_result",
          "data": {
            "text/plain": [
              "array([1, 2])"
            ]
          },
          "metadata": {
            "tags": []
          },
          "execution_count": 88
        }
      ]
    },
    {
      "metadata": {
        "id": "E9exkqduC-Pb",
        "colab_type": "text"
      },
      "cell_type": "markdown",
      "source": [
        "16. Use broadcasting to add B to A to create the final array A + B"
      ]
    },
    {
      "metadata": {
        "id": "vTOX_JMxC_7S",
        "colab_type": "code",
        "colab": {
          "base_uri": "https://localhost:8080/",
          "height": 153
        },
        "outputId": "413dccb4-a540-45f8-d1f7-552769d5d543"
      },
      "cell_type": "code",
      "source": [
        "A[:, np.newaxis] + B    "
      ],
      "execution_count": 89,
      "outputs": [
        {
          "output_type": "execute_result",
          "data": {
            "text/plain": [
              "array([[ 2,  3],\n",
              "       [ 3,  4],\n",
              "       [ 4,  5],\n",
              "       [ 5,  6],\n",
              "       [ 6,  7],\n",
              "       [ 7,  8],\n",
              "       [ 8,  9],\n",
              "       [ 9, 10]])"
            ]
          },
          "metadata": {
            "tags": []
          },
          "execution_count": 89
        }
      ]
    }
  ]
}